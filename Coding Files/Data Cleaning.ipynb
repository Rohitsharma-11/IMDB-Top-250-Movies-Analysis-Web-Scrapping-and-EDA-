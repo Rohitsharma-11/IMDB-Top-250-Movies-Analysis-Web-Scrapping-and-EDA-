{
 "cells": [
  {
   "cell_type": "code",
   "execution_count": 103,
   "id": "e8abde71-2498-4125-8862-64fbaeac0ae5",
   "metadata": {},
   "outputs": [],
   "source": [
    "import pandas as pd\n",
    "import numpy as np\n",
    "from sklearn.preprocessing import LabelEncoder,MinMaxScaler"
   ]
  },
  {
   "cell_type": "code",
   "execution_count": 104,
   "id": "132c2ac2-31f7-4da6-85ca-cf773216747a",
   "metadata": {},
   "outputs": [],
   "source": [
    "df = pd.read_csv('IMDB_top250.csv')"
   ]
  },
  {
   "cell_type": "code",
   "execution_count": 105,
   "id": "7023d508-9e58-48f7-af36-c6d54bed3035",
   "metadata": {},
   "outputs": [
    {
     "data": {
      "text/html": [
       "<div>\n",
       "<style scoped>\n",
       "    .dataframe tbody tr th:only-of-type {\n",
       "        vertical-align: middle;\n",
       "    }\n",
       "\n",
       "    .dataframe tbody tr th {\n",
       "        vertical-align: top;\n",
       "    }\n",
       "\n",
       "    .dataframe thead th {\n",
       "        text-align: right;\n",
       "    }\n",
       "</style>\n",
       "<table border=\"1\" class=\"dataframe\">\n",
       "  <thead>\n",
       "    <tr style=\"text-align: right;\">\n",
       "      <th></th>\n",
       "      <th>Unnamed: 0</th>\n",
       "      <th>Name</th>\n",
       "      <th>Genre</th>\n",
       "      <th>Year</th>\n",
       "      <th>Duration</th>\n",
       "      <th>Average_Rating</th>\n",
       "      <th>Num_of_Rating</th>\n",
       "    </tr>\n",
       "  </thead>\n",
       "  <tbody>\n",
       "    <tr>\n",
       "      <th>0</th>\n",
       "      <td>0</td>\n",
       "      <td>1. The Shawshank Redemption</td>\n",
       "      <td>Drama</td>\n",
       "      <td>1994</td>\n",
       "      <td>2h 22m</td>\n",
       "      <td>9.3</td>\n",
       "      <td>(3.1M)</td>\n",
       "    </tr>\n",
       "    <tr>\n",
       "      <th>1</th>\n",
       "      <td>1</td>\n",
       "      <td>2. The Godfather</td>\n",
       "      <td>Drama</td>\n",
       "      <td>1972</td>\n",
       "      <td>2h 55m</td>\n",
       "      <td>9.2</td>\n",
       "      <td>(2.2M)</td>\n",
       "    </tr>\n",
       "    <tr>\n",
       "      <th>2</th>\n",
       "      <td>2</td>\n",
       "      <td>3. The Dark Knight</td>\n",
       "      <td>Thriller</td>\n",
       "      <td>2008</td>\n",
       "      <td>2h 32m</td>\n",
       "      <td>9.1</td>\n",
       "      <td>(3.1M)</td>\n",
       "    </tr>\n",
       "    <tr>\n",
       "      <th>3</th>\n",
       "      <td>3</td>\n",
       "      <td>4. The Godfather Part II</td>\n",
       "      <td>Drama</td>\n",
       "      <td>1974</td>\n",
       "      <td>3h 22m</td>\n",
       "      <td>9.0</td>\n",
       "      <td>(1.4M)</td>\n",
       "    </tr>\n",
       "    <tr>\n",
       "      <th>4</th>\n",
       "      <td>4</td>\n",
       "      <td>5. 12 Angry Men</td>\n",
       "      <td>Drama</td>\n",
       "      <td>1957</td>\n",
       "      <td>1h 36m</td>\n",
       "      <td>9.0</td>\n",
       "      <td>(946K)</td>\n",
       "    </tr>\n",
       "  </tbody>\n",
       "</table>\n",
       "</div>"
      ],
      "text/plain": [
       "   Unnamed: 0                         Name     Genre  Year Duration  \\\n",
       "0           0  1. The Shawshank Redemption     Drama  1994   2h 22m   \n",
       "1           1             2. The Godfather     Drama  1972   2h 55m   \n",
       "2           2           3. The Dark Knight  Thriller  2008   2h 32m   \n",
       "3           3     4. The Godfather Part II     Drama  1974   3h 22m   \n",
       "4           4              5. 12 Angry Men     Drama  1957   1h 36m   \n",
       "\n",
       "   Average_Rating Num_of_Rating  \n",
       "0             9.3        (3.1M)  \n",
       "1             9.2        (2.2M)  \n",
       "2             9.1        (3.1M)  \n",
       "3             9.0        (1.4M)  \n",
       "4             9.0        (946K)  "
      ]
     },
     "execution_count": 105,
     "metadata": {},
     "output_type": "execute_result"
    }
   ],
   "source": [
    "df.head()"
   ]
  },
  {
   "cell_type": "markdown",
   "id": "f35cdd72-bbf4-4770-9a71-357bff068480",
   "metadata": {},
   "source": [
    "### Data Cleaning"
   ]
  },
  {
   "cell_type": "code",
   "execution_count": 106,
   "id": "31883db5-74fa-4413-9d5b-e65ceee1fbe4",
   "metadata": {},
   "outputs": [],
   "source": [
    "# Drop the Extra Column\n",
    "\n",
    "df = df.drop(columns= 'Unnamed: 0')"
   ]
  },
  {
   "cell_type": "code",
   "execution_count": 107,
   "id": "d0e86776-ffbb-463a-8bd0-00e0ad5b59d7",
   "metadata": {},
   "outputs": [],
   "source": [
    "# Rename column for better understanding\n",
    "\n",
    "df.rename(columns= {'Num_of_Rating':'Num_of_Rating(in K)'},inplace = True)"
   ]
  },
  {
   "cell_type": "code",
   "execution_count": 108,
   "id": "1bf720b3-553c-4c9d-b61c-a171ba5819c7",
   "metadata": {},
   "outputs": [
    {
     "data": {
      "text/html": [
       "<div>\n",
       "<style scoped>\n",
       "    .dataframe tbody tr th:only-of-type {\n",
       "        vertical-align: middle;\n",
       "    }\n",
       "\n",
       "    .dataframe tbody tr th {\n",
       "        vertical-align: top;\n",
       "    }\n",
       "\n",
       "    .dataframe thead th {\n",
       "        text-align: right;\n",
       "    }\n",
       "</style>\n",
       "<table border=\"1\" class=\"dataframe\">\n",
       "  <thead>\n",
       "    <tr style=\"text-align: right;\">\n",
       "      <th></th>\n",
       "      <th>Name</th>\n",
       "      <th>Genre</th>\n",
       "      <th>Year</th>\n",
       "      <th>Duration</th>\n",
       "      <th>Average_Rating</th>\n",
       "      <th>Num_of_Rating(in K)</th>\n",
       "    </tr>\n",
       "  </thead>\n",
       "  <tbody>\n",
       "    <tr>\n",
       "      <th>0</th>\n",
       "      <td>1. The Shawshank Redemption</td>\n",
       "      <td>Drama</td>\n",
       "      <td>1994</td>\n",
       "      <td>2h 22m</td>\n",
       "      <td>9.3</td>\n",
       "      <td>(3.1M)</td>\n",
       "    </tr>\n",
       "    <tr>\n",
       "      <th>1</th>\n",
       "      <td>2. The Godfather</td>\n",
       "      <td>Drama</td>\n",
       "      <td>1972</td>\n",
       "      <td>2h 55m</td>\n",
       "      <td>9.2</td>\n",
       "      <td>(2.2M)</td>\n",
       "    </tr>\n",
       "    <tr>\n",
       "      <th>2</th>\n",
       "      <td>3. The Dark Knight</td>\n",
       "      <td>Thriller</td>\n",
       "      <td>2008</td>\n",
       "      <td>2h 32m</td>\n",
       "      <td>9.1</td>\n",
       "      <td>(3.1M)</td>\n",
       "    </tr>\n",
       "    <tr>\n",
       "      <th>3</th>\n",
       "      <td>4. The Godfather Part II</td>\n",
       "      <td>Drama</td>\n",
       "      <td>1974</td>\n",
       "      <td>3h 22m</td>\n",
       "      <td>9.0</td>\n",
       "      <td>(1.4M)</td>\n",
       "    </tr>\n",
       "    <tr>\n",
       "      <th>4</th>\n",
       "      <td>5. 12 Angry Men</td>\n",
       "      <td>Drama</td>\n",
       "      <td>1957</td>\n",
       "      <td>1h 36m</td>\n",
       "      <td>9.0</td>\n",
       "      <td>(946K)</td>\n",
       "    </tr>\n",
       "  </tbody>\n",
       "</table>\n",
       "</div>"
      ],
      "text/plain": [
       "                          Name     Genre  Year Duration  Average_Rating  \\\n",
       "0  1. The Shawshank Redemption     Drama  1994   2h 22m             9.3   \n",
       "1             2. The Godfather     Drama  1972   2h 55m             9.2   \n",
       "2           3. The Dark Knight  Thriller  2008   2h 32m             9.1   \n",
       "3     4. The Godfather Part II     Drama  1974   3h 22m             9.0   \n",
       "4              5. 12 Angry Men     Drama  1957   1h 36m             9.0   \n",
       "\n",
       "  Num_of_Rating(in K)  \n",
       "0              (3.1M)  \n",
       "1              (2.2M)  \n",
       "2              (3.1M)  \n",
       "3              (1.4M)  \n",
       "4              (946K)  "
      ]
     },
     "execution_count": 108,
     "metadata": {},
     "output_type": "execute_result"
    }
   ],
   "source": [
    "df.head()"
   ]
  },
  {
   "cell_type": "code",
   "execution_count": 109,
   "id": "5f6a6745-eef3-4ebe-976d-95d9a8ca5e83",
   "metadata": {},
   "outputs": [
    {
     "name": "stdout",
     "output_type": "stream",
     "text": [
      "<class 'pandas.core.frame.DataFrame'>\n",
      "RangeIndex: 250 entries, 0 to 249\n",
      "Data columns (total 6 columns):\n",
      " #   Column               Non-Null Count  Dtype  \n",
      "---  ------               --------------  -----  \n",
      " 0   Name                 250 non-null    object \n",
      " 1   Genre                250 non-null    object \n",
      " 2   Year                 250 non-null    int64  \n",
      " 3   Duration             250 non-null    object \n",
      " 4   Average_Rating       250 non-null    float64\n",
      " 5   Num_of_Rating(in K)  250 non-null    object \n",
      "dtypes: float64(1), int64(1), object(4)\n",
      "memory usage: 11.8+ KB\n"
     ]
    }
   ],
   "source": [
    "df.info()"
   ]
  },
  {
   "cell_type": "code",
   "execution_count": 110,
   "id": "03d9b75d-046f-4a14-ba64-ec3215fb8b5e",
   "metadata": {},
   "outputs": [],
   "source": [
    "# Cleaning the Name Column\n",
    "df['Name'] = df['Name'].str.split(' ').str.slice(1).str.join(' ').str.strip()"
   ]
  },
  {
   "cell_type": "code",
   "execution_count": 111,
   "id": "e84c3a8f-64f2-4d58-b354-68fa0f9f2648",
   "metadata": {},
   "outputs": [],
   "source": [
    "# Cleaning the Duration Columns\n",
    "# -> First Replace all Characters which white space\n",
    "# -> Then convert the hour and minute into decimal format\n",
    "df['Duration'] = df['Duration'].replace({' ':'.','h':'','m':''},regex=True).apply(lambda x: '0.'+ x if len(x) <= 2 else x).astype('float32')"
   ]
  },
  {
   "cell_type": "code",
   "execution_count": 112,
   "id": "eb759e09-9d66-46de-89d3-fa053b8250b5",
   "metadata": {},
   "outputs": [],
   "source": [
    "# Cleaning the Num of Rating Column\n",
    "\n",
    "df['Num_of_Rating(in K)'] = df['Num_of_Rating(in K)'].str.slice(2,-1).apply(lambda x: float(x[:-1])*1000 if x[-1] == 'M' else x[:-1]).astype('int')"
   ]
  },
  {
   "cell_type": "code",
   "execution_count": 113,
   "id": "5b8fef07-58da-4e83-a28e-4772c1620ff5",
   "metadata": {},
   "outputs": [
    {
     "data": {
      "text/html": [
       "<div>\n",
       "<style scoped>\n",
       "    .dataframe tbody tr th:only-of-type {\n",
       "        vertical-align: middle;\n",
       "    }\n",
       "\n",
       "    .dataframe tbody tr th {\n",
       "        vertical-align: top;\n",
       "    }\n",
       "\n",
       "    .dataframe thead th {\n",
       "        text-align: right;\n",
       "    }\n",
       "</style>\n",
       "<table border=\"1\" class=\"dataframe\">\n",
       "  <thead>\n",
       "    <tr style=\"text-align: right;\">\n",
       "      <th></th>\n",
       "      <th>Name</th>\n",
       "      <th>Genre</th>\n",
       "      <th>Year</th>\n",
       "      <th>Duration</th>\n",
       "      <th>Average_Rating</th>\n",
       "      <th>Num_of_Rating(in K)</th>\n",
       "    </tr>\n",
       "  </thead>\n",
       "  <tbody>\n",
       "    <tr>\n",
       "      <th>0</th>\n",
       "      <td>The Shawshank Redemption</td>\n",
       "      <td>Drama</td>\n",
       "      <td>1994</td>\n",
       "      <td>2.22</td>\n",
       "      <td>9.3</td>\n",
       "      <td>3100</td>\n",
       "    </tr>\n",
       "    <tr>\n",
       "      <th>1</th>\n",
       "      <td>The Godfather</td>\n",
       "      <td>Drama</td>\n",
       "      <td>1972</td>\n",
       "      <td>2.55</td>\n",
       "      <td>9.2</td>\n",
       "      <td>2200</td>\n",
       "    </tr>\n",
       "    <tr>\n",
       "      <th>2</th>\n",
       "      <td>The Dark Knight</td>\n",
       "      <td>Thriller</td>\n",
       "      <td>2008</td>\n",
       "      <td>2.32</td>\n",
       "      <td>9.1</td>\n",
       "      <td>3100</td>\n",
       "    </tr>\n",
       "    <tr>\n",
       "      <th>3</th>\n",
       "      <td>The Godfather Part II</td>\n",
       "      <td>Drama</td>\n",
       "      <td>1974</td>\n",
       "      <td>3.22</td>\n",
       "      <td>9.0</td>\n",
       "      <td>1400</td>\n",
       "    </tr>\n",
       "    <tr>\n",
       "      <th>4</th>\n",
       "      <td>12 Angry Men</td>\n",
       "      <td>Drama</td>\n",
       "      <td>1957</td>\n",
       "      <td>1.36</td>\n",
       "      <td>9.0</td>\n",
       "      <td>946</td>\n",
       "    </tr>\n",
       "  </tbody>\n",
       "</table>\n",
       "</div>"
      ],
      "text/plain": [
       "                       Name     Genre  Year  Duration  Average_Rating  \\\n",
       "0  The Shawshank Redemption     Drama  1994      2.22             9.3   \n",
       "1             The Godfather     Drama  1972      2.55             9.2   \n",
       "2           The Dark Knight  Thriller  2008      2.32             9.1   \n",
       "3     The Godfather Part II     Drama  1974      3.22             9.0   \n",
       "4              12 Angry Men     Drama  1957      1.36             9.0   \n",
       "\n",
       "   Num_of_Rating(in K)  \n",
       "0                 3100  \n",
       "1                 2200  \n",
       "2                 3100  \n",
       "3                 1400  \n",
       "4                  946  "
      ]
     },
     "execution_count": 113,
     "metadata": {},
     "output_type": "execute_result"
    }
   ],
   "source": [
    "df.head()"
   ]
  },
  {
   "cell_type": "code",
   "execution_count": 114,
   "id": "8eb72b40-47bc-4b64-9656-0b1d99cac29f",
   "metadata": {},
   "outputs": [],
   "source": [
    "# Created a copy of Data for Further Analysis\n",
    "\n",
    "df2 = df.copy()"
   ]
  },
  {
   "cell_type": "markdown",
   "id": "c6e02c78-cdd0-45e8-8480-0e49376604dc",
   "metadata": {},
   "source": [
    "### Encoding"
   ]
  },
  {
   "cell_type": "code",
   "execution_count": 115,
   "id": "61302a5b-7afb-42a1-a3f6-8685e283d76f",
   "metadata": {},
   "outputs": [],
   "source": [
    "le = LabelEncoder()"
   ]
  },
  {
   "cell_type": "code",
   "execution_count": 116,
   "id": "ff3d8958-e441-4b5b-905a-30b7331f7605",
   "metadata": {},
   "outputs": [],
   "source": [
    "df2[['Name','Genre']] = df2[['Name','Genre']].apply(le.fit_transform)"
   ]
  },
  {
   "cell_type": "markdown",
   "id": "9e8cb273-8ba0-436b-aed8-e2f06a4b1746",
   "metadata": {},
   "source": [
    "### Normalization"
   ]
  },
  {
   "cell_type": "code",
   "execution_count": 117,
   "id": "237c4a31-2fe0-4a1b-9a8e-323672717ee7",
   "metadata": {},
   "outputs": [],
   "source": [
    "scaler = MinMaxScaler()"
   ]
  },
  {
   "cell_type": "code",
   "execution_count": 118,
   "id": "7840f681-44c6-4b5d-a24c-a588b2906683",
   "metadata": {},
   "outputs": [],
   "source": [
    "scaled = scaler.fit_transform(df2)"
   ]
  },
  {
   "cell_type": "code",
   "execution_count": 119,
   "id": "bc677ebf-a76b-4a86-b139-663d6e12d8a1",
   "metadata": {},
   "outputs": [],
   "source": [
    "scaled_df = pd.DataFrame(scaled,columns=df2.columns)"
   ]
  },
  {
   "cell_type": "code",
   "execution_count": 120,
   "id": "299a2f25-c245-454d-8eb6-b8f00162d41f",
   "metadata": {},
   "outputs": [
    {
     "data": {
      "text/html": [
       "<div>\n",
       "<style scoped>\n",
       "    .dataframe tbody tr th:only-of-type {\n",
       "        vertical-align: middle;\n",
       "    }\n",
       "\n",
       "    .dataframe tbody tr th {\n",
       "        vertical-align: top;\n",
       "    }\n",
       "\n",
       "    .dataframe thead th {\n",
       "        text-align: right;\n",
       "    }\n",
       "</style>\n",
       "<table border=\"1\" class=\"dataframe\">\n",
       "  <thead>\n",
       "    <tr style=\"text-align: right;\">\n",
       "      <th></th>\n",
       "      <th>Name</th>\n",
       "      <th>Genre</th>\n",
       "      <th>Year</th>\n",
       "      <th>Duration</th>\n",
       "      <th>Average_Rating</th>\n",
       "      <th>Num_of_Rating(in K)</th>\n",
       "    </tr>\n",
       "  </thead>\n",
       "  <tbody>\n",
       "    <tr>\n",
       "      <th>0</th>\n",
       "      <td>0.855422</td>\n",
       "      <td>0.217391</td>\n",
       "      <td>0.708738</td>\n",
       "      <td>0.340067</td>\n",
       "      <td>1.000000</td>\n",
       "      <td>1.000000</td>\n",
       "    </tr>\n",
       "    <tr>\n",
       "      <th>1</th>\n",
       "      <td>0.746988</td>\n",
       "      <td>0.217391</td>\n",
       "      <td>0.495146</td>\n",
       "      <td>0.395623</td>\n",
       "      <td>0.923077</td>\n",
       "      <td>0.707222</td>\n",
       "    </tr>\n",
       "    <tr>\n",
       "      <th>2</th>\n",
       "      <td>0.714859</td>\n",
       "      <td>0.913043</td>\n",
       "      <td>0.844660</td>\n",
       "      <td>0.356902</td>\n",
       "      <td>0.846154</td>\n",
       "      <td>1.000000</td>\n",
       "    </tr>\n",
       "    <tr>\n",
       "      <th>3</th>\n",
       "      <td>0.751004</td>\n",
       "      <td>0.217391</td>\n",
       "      <td>0.514563</td>\n",
       "      <td>0.508418</td>\n",
       "      <td>0.769231</td>\n",
       "      <td>0.446975</td>\n",
       "    </tr>\n",
       "    <tr>\n",
       "      <th>4</th>\n",
       "      <td>0.000000</td>\n",
       "      <td>0.217391</td>\n",
       "      <td>0.349515</td>\n",
       "      <td>0.195286</td>\n",
       "      <td>0.769231</td>\n",
       "      <td>0.299284</td>\n",
       "    </tr>\n",
       "  </tbody>\n",
       "</table>\n",
       "</div>"
      ],
      "text/plain": [
       "       Name     Genre      Year  Duration  Average_Rating  Num_of_Rating(in K)\n",
       "0  0.855422  0.217391  0.708738  0.340067        1.000000             1.000000\n",
       "1  0.746988  0.217391  0.495146  0.395623        0.923077             0.707222\n",
       "2  0.714859  0.913043  0.844660  0.356902        0.846154             1.000000\n",
       "3  0.751004  0.217391  0.514563  0.508418        0.769231             0.446975\n",
       "4  0.000000  0.217391  0.349515  0.195286        0.769231             0.299284"
      ]
     },
     "execution_count": 120,
     "metadata": {},
     "output_type": "execute_result"
    }
   ],
   "source": [
    "scaled_df.head()"
   ]
  },
  {
   "cell_type": "code",
   "execution_count": 121,
   "id": "9db87878-2766-4372-bbae-38dc94cce216",
   "metadata": {},
   "outputs": [],
   "source": [
    "df.to_csv('IMDB_Top250_Cleaned.csv',index=False)"
   ]
  },
  {
   "cell_type": "code",
   "execution_count": null,
   "id": "17e0dbc3-f8a9-4d0e-979b-56766cc5309b",
   "metadata": {},
   "outputs": [],
   "source": []
  }
 ],
 "metadata": {
  "kernelspec": {
   "display_name": "Python 3 (ipykernel)",
   "language": "python",
   "name": "python3"
  },
  "language_info": {
   "codemirror_mode": {
    "name": "ipython",
    "version": 3
   },
   "file_extension": ".py",
   "mimetype": "text/x-python",
   "name": "python",
   "nbconvert_exporter": "python",
   "pygments_lexer": "ipython3",
   "version": "3.10.18"
  }
 },
 "nbformat": 4,
 "nbformat_minor": 5
}
