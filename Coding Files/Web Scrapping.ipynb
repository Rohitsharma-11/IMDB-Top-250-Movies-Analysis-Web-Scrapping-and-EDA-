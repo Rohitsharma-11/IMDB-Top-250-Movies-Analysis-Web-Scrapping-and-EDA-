{
 "cells": [
  {
   "cell_type": "code",
   "execution_count": 7,
   "id": "3311eb08-4821-4223-9285-fe0e16e842a1",
   "metadata": {},
   "outputs": [],
   "source": [
    "from selenium import webdriver\n",
    "from bs4 import BeautifulSoup\n",
    "import time\n",
    "import pandas as pd"
   ]
  },
  {
   "cell_type": "code",
   "execution_count": 8,
   "id": "a2a1c193-2195-4bb4-b032-feefe50cc27e",
   "metadata": {},
   "outputs": [],
   "source": [
    "driver = webdriver.Chrome()\n",
    "driver.get(\"https://www.imdb.com/chart/top/\")"
   ]
  },
  {
   "cell_type": "code",
   "execution_count": 9,
   "id": "c133aca7-4e9d-4ff2-9aa0-917f82da9355",
   "metadata": {},
   "outputs": [],
   "source": [
    "# Scroll till all movies load\n",
    "last_height = driver.execute_script(\"return document.body.scrollHeight\")\n",
    "while True:\n",
    "    driver.execute_script(\"window.scrollTo(0, document.body.scrollHeight);\")\n",
    "    time.sleep(2)\n",
    "    new_height = driver.execute_script(\"return document.body.scrollHeight\")\n",
    "    if new_height == last_height:\n",
    "        break\n",
    "    last_height = new_height"
   ]
  },
  {
   "cell_type": "code",
   "execution_count": 10,
   "id": "698ce96d-7f54-44ff-89be-4935c1d1bf27",
   "metadata": {},
   "outputs": [],
   "source": [
    "soup = BeautifulSoup(driver.page_source, \"html.parser\")\n",
    "driver.quit()"
   ]
  },
  {
   "cell_type": "code",
   "execution_count": 11,
   "id": "b1011340-93e2-4c53-9c4c-83ee0fa0ebd1",
   "metadata": {},
   "outputs": [],
   "source": [
    "rows = soup.find_all(\"li\", class_=\"ipc-metadata-list-summary-item\")"
   ]
  },
  {
   "cell_type": "code",
   "execution_count": 49,
   "id": "9f036d3b-7632-4ba1-b93a-54ee980182ca",
   "metadata": {},
   "outputs": [],
   "source": [
    "movie_name = []\n",
    "movie_year = []\n",
    "movie_duration = []\n",
    "movie_avg_rating = []\n",
    "movie_total_rating = []\n",
    "\n",
    "\n",
    "page_links = []\n",
    "\n",
    "for i in rows:\n",
    "    # Movie Name\n",
    "    name = i.find('h3').text\n",
    "    movie_name.append(name)\n",
    "\n",
    "    # Year of Release\n",
    "    year_of_release = i.find_all('span',class_ = 'sc-15ac7568-7 cCsint cli-title-metadata-item')[0].text\n",
    "    movie_year.append(year_of_release)\n",
    "    \n",
    "    # Duration\n",
    "    duration = i.find_all('span',class_ = 'sc-15ac7568-7 cCsint cli-title-metadata-item')[1].text\n",
    "    movie_duration.append(duration)\n",
    "    \n",
    "    # Average Rating\n",
    "    avg_rating = i.find('span',class_ = 'ipc-rating-star--rating').text\n",
    "    movie_avg_rating.append(avg_rating)\n",
    "    \n",
    "    # Total No of Rating\n",
    "    total_rating = i.find('span',class_ = 'ipc-rating-star--voteCount').text\n",
    "    movie_total_rating.append(total_rating)\n",
    "    \n",
    "    # Page Link for extracting Genre\n",
    "    page_link = i.find(\"a\", href=True)\n",
    "    page_links.append(page_link[\"href\"].split(\"?\")[0])"
   ]
  },
  {
   "cell_type": "code",
   "execution_count": 47,
   "id": "c806ad7a-b81b-479a-b0f1-07b35ad6c6d9",
   "metadata": {},
   "outputs": [],
   "source": [
    "base_url = \"https://www.imdb.com\" "
   ]
  },
  {
   "cell_type": "code",
   "execution_count": 69,
   "id": "7d45a541-0459-40a9-bca2-af274ddd2246",
   "metadata": {},
   "outputs": [],
   "source": [
    "movie_genre = []"
   ]
  },
  {
   "cell_type": "code",
   "execution_count": 70,
   "id": "33854d59-6989-4e5e-9c76-09a30696773a",
   "metadata": {},
   "outputs": [],
   "source": [
    "for i in page_links:\n",
    "    link = base_url+i\n",
    "    sub_resp = requests.get(link, headers=headers)\n",
    "    sub_soup = BeautifulSoup(sub_resp.text, \"html.parser\")\n",
    "    genre = sub_soup.find_all('a',class_ = 'ipc-chip ipc-chip--on-baseAlt')[-1].text\n",
    "    movie_genre.append(genre)"
   ]
  },
  {
   "cell_type": "code",
   "execution_count": 71,
   "id": "dab81f92-4325-4468-9e35-1533476fe6a6",
   "metadata": {},
   "outputs": [
    {
     "data": {
      "text/plain": [
       "250"
      ]
     },
     "execution_count": 71,
     "metadata": {},
     "output_type": "execute_result"
    }
   ],
   "source": [
    "len(movie_genre)"
   ]
  },
  {
   "cell_type": "code",
   "execution_count": 72,
   "id": "08ffd965-d984-4672-beaf-b1f7e3b01f1f",
   "metadata": {},
   "outputs": [],
   "source": [
    "df = pd.DataFrame({\n",
    "    'Name':movie_name,\n",
    "    'Genre':movie_genre,\n",
    "    'Year':movie_year,\n",
    "    'Duration':movie_duration,\n",
    "    'Average_Rating':movie_avg_rating,\n",
    "    'Num_of_Rating':movie_total_rating\n",
    "})"
   ]
  },
  {
   "cell_type": "code",
   "execution_count": 74,
   "id": "28eb5975-1a15-48c1-9b12-63f91b0df466",
   "metadata": {},
   "outputs": [],
   "source": [
    "df.to_csv('IMDB_top250.csv')"
   ]
  },
  {
   "cell_type": "code",
   "execution_count": null,
   "id": "44880083-2d66-4614-92cf-4dc1b439166c",
   "metadata": {},
   "outputs": [],
   "source": []
  }
 ],
 "metadata": {
  "kernelspec": {
   "display_name": "Python 3 (ipykernel)",
   "language": "python",
   "name": "python3"
  },
  "language_info": {
   "codemirror_mode": {
    "name": "ipython",
    "version": 3
   },
   "file_extension": ".py",
   "mimetype": "text/x-python",
   "name": "python",
   "nbconvert_exporter": "python",
   "pygments_lexer": "ipython3",
   "version": "3.10.18"
  }
 },
 "nbformat": 4,
 "nbformat_minor": 5
}
